{
 "cells": [
  {
   "cell_type": "code",
   "execution_count": 1,
   "id": "d933753b",
   "metadata": {},
   "outputs": [],
   "source": [
    "import torch\n",
    "import torch.nn as nn\n",
    "\n",
    "from torchvision import transforms\n",
    "from torchvision import models\n",
    "\n",
    "from PIL import Image\n",
    "import numpy as np"
   ]
  },
  {
   "cell_type": "markdown",
   "id": "077d54c2",
   "metadata": {},
   "source": [
    "# **Style Transfer**\n",
    "\n",
    "- **Task**: combines the content of one image with the style of another image using CNN.\n",
    "- **Method Overview**: Given a content image and a style image, the goal is to generate a target image that minimizes the content difference with the content image and the stye difference with the style image \n",
    "- *Content Loss*: minimize the MSE between feature maps from the content image and style image\n",
    "- *Style Loss*: forward propagate the style image and the target image to the VGGNet, extract the feature maps; To generate a texture that matches the style of the style image, we update the target image by minimizing the MSE between the `Gram` matrxi of the style image and the target image"
   ]
  },
  {
   "cell_type": "markdown",
   "id": "4604b8c0",
   "metadata": {},
   "source": [
    "### **Device**"
   ]
  },
  {
   "cell_type": "code",
   "execution_count": 2,
   "id": "58389401",
   "metadata": {},
   "outputs": [],
   "source": [
    "device = torch.device('cuda' if torch.cuda.is_available() else 'cpu')"
   ]
  },
  {
   "cell_type": "markdown",
   "id": "99da45e8",
   "metadata": {},
   "source": [
    "### **Image Preprocessing**"
   ]
  },
  {
   "cell_type": "code",
   "execution_count": 7,
   "id": "6823804a",
   "metadata": {},
   "outputs": [],
   "source": [
    "# VGGNet was trained on ImageNet where images are normalized by mean=[0.485, 0.456, 0.406] and std=[0.229, 0.224, 0.225].\n",
    "# We use the same normalization statistics here.\n",
    "transform = transforms.Compose([\n",
    "    transforms.ToTensor(),\n",
    "    transforms.Normalize(mean=(0.485, 0.456, 0.406),\n",
    "                         std=(0.229, 0.224, 0.225))\n",
    "])"
   ]
  },
  {
   "cell_type": "markdown",
   "id": "dfa2f56f",
   "metadata": {},
   "source": [
    "### **Load Content & Style Image**"
   ]
  },
  {
   "cell_type": "code",
   "execution_count": 5,
   "id": "51a533d5",
   "metadata": {},
   "outputs": [],
   "source": [
    "def load_image(image_path, transforms=None, max_size=None, shape=None):\n",
    "    image = Image.open(image_path)\n",
    "    if max_size:\n",
    "        scale = max_size / max(image.size)\n",
    "        size = np.array(image.size) * scale\n",
    "        image = image.reszie(size.astype(int), Image.ANTIALIAS)\n",
    "        \n",
    "    if shape:\n",
    "        image = image.resize(shape, Image.LANCZOS)\n",
    "        \n",
    "    if transform:\n",
    "        image = transforms(image).unsqueeze(0)\n",
    "        \n",
    "    return image.to(device)"
   ]
  },
  {
   "cell_type": "markdown",
   "id": "2f2a90ef",
   "metadata": {},
   "source": [
    "### **Model**"
   ]
  },
  {
   "cell_type": "code",
   "execution_count": 6,
   "id": "05531764",
   "metadata": {},
   "outputs": [],
   "source": [
    "class VGGNet(nn.Module):\n",
    "    def __init__(self):\n",
    "        super(VGGNet, self).__init__()\n",
    "        self.select = ['0', '5', '10', '19', '28']\n",
    "        self.vgg = models.vgg19(pretrained=True).features\n",
    "        \n",
    "    def forward(self, x):\n",
    "        features = []\n",
    "        for name, layer in self.vgg._modules.items():\n",
    "            x = layer(x)\n",
    "            if name in self.select:\n",
    "                features.append(x)\n",
    "        return features"
   ]
  },
  {
   "cell_type": "code",
   "execution_count": null,
   "id": "300844fc",
   "metadata": {},
   "outputs": [],
   "source": [
    "vgg = VGGNet().to(device).eval()"
   ]
  },
  {
   "cell_type": "markdown",
   "id": "c398d74b",
   "metadata": {},
   "source": [
    "### **Hyper-parameter**"
   ]
  },
  {
   "cell_type": "code",
   "execution_count": null,
   "id": "3920caf1",
   "metadata": {},
   "outputs": [],
   "source": [
    "content = '' # content image\n",
    "style = '' # style image\n",
    "max_size = 400 #\n",
    "total_step = 2000\n",
    "log_step = 10\n",
    "sample_step = 500\n",
    "style_weight = 100.0\n",
    "lr = 0.003"
   ]
  },
  {
   "cell_type": "markdown",
   "id": "a137d107",
   "metadata": {},
   "source": [
    "### **Optimizer**"
   ]
  },
  {
   "cell_type": "code",
   "execution_count": null,
   "id": "f190ac6f",
   "metadata": {},
   "outputs": [],
   "source": [
    "optimizer = torch.optim.Adam([target], lr=config.lr. betas=[0.5, 0.999])"
   ]
  },
  {
   "cell_type": "markdown",
   "id": "8599d3f0",
   "metadata": {},
   "source": [
    "### **Training**"
   ]
  },
  {
   "cell_type": "code",
   "execution_count": 8,
   "id": "2f4cccb1",
   "metadata": {
    "collapsed": true
   },
   "outputs": [
    {
     "ename": "NameError",
     "evalue": "name 'config' is not defined",
     "output_type": "error",
     "traceback": [
      "\u001b[1;31m---------------------------------------------------------------------------\u001b[0m",
      "\u001b[1;31mNameError\u001b[0m                                 Traceback (most recent call last)",
      "\u001b[1;32m~\\AppData\\Local\\Temp\\ipykernel_22404\\970014587.py\u001b[0m in \u001b[0;36m<module>\u001b[1;34m\u001b[0m\n\u001b[1;32m----> 1\u001b[1;33m \u001b[1;32mfor\u001b[0m \u001b[0mstep\u001b[0m \u001b[1;32min\u001b[0m \u001b[0mrange\u001b[0m\u001b[1;33m(\u001b[0m\u001b[0mconfig\u001b[0m\u001b[1;33m.\u001b[0m\u001b[0mtotal_step\u001b[0m\u001b[1;33m)\u001b[0m\u001b[1;33m:\u001b[0m\u001b[1;33m\u001b[0m\u001b[1;33m\u001b[0m\u001b[0m\n\u001b[0m\u001b[0;32m      2\u001b[0m     \u001b[1;31m# Extract multiple conv feature vectors\u001b[0m\u001b[1;33m\u001b[0m\u001b[1;33m\u001b[0m\u001b[0m\n\u001b[0;32m      3\u001b[0m     \u001b[0mtarget_features\u001b[0m \u001b[1;33m=\u001b[0m \u001b[0mvgg\u001b[0m\u001b[1;33m(\u001b[0m\u001b[0mtarget\u001b[0m\u001b[1;33m)\u001b[0m\u001b[1;33m\u001b[0m\u001b[1;33m\u001b[0m\u001b[0m\n\u001b[0;32m      4\u001b[0m     \u001b[0mcontent_features\u001b[0m \u001b[1;33m=\u001b[0m \u001b[0mvgg\u001b[0m\u001b[1;33m(\u001b[0m\u001b[0mcontent\u001b[0m\u001b[1;33m)\u001b[0m\u001b[1;33m\u001b[0m\u001b[1;33m\u001b[0m\u001b[0m\n\u001b[0;32m      5\u001b[0m     \u001b[0mstyle_features\u001b[0m \u001b[1;33m=\u001b[0m \u001b[0mvgg\u001b[0m\u001b[1;33m(\u001b[0m\u001b[0mstyle\u001b[0m\u001b[1;33m)\u001b[0m\u001b[1;33m\u001b[0m\u001b[1;33m\u001b[0m\u001b[0m\n",
      "\u001b[1;31mNameError\u001b[0m: name 'config' is not defined"
     ]
    }
   ],
   "source": [
    "for step in range(config.total_step):\n",
    "    # Extract multiple conv feature vectors\n",
    "    target_features = vgg(target)\n",
    "    content_features = vgg(content)\n",
    "    style_features = vgg(style)\n",
    "    \n",
    "    content_loss = 0\n",
    "    style_loss = 0\n",
    "    for f1, f2, f3 in zip(target_features, content_features, style_features):\n",
    "        # Compute content loss with target and content images\n",
    "        content_loss += torch.mean((f1 - f2)**2) # MSE\n",
    "        \n",
    "        # Reshape conv feature maps\n",
    "        _, c, h, w = f1.size()\n",
    "        f1 = f1.view(c, h * w)\n",
    "        f3 = f3.view(c, h * w)\n",
    "        \n",
    "        # Compute style loss with target and style images\n",
    "        style_loss += torch.mean((f1 - f3)**2) / (c * h * w)\n",
    "        \n",
    "    # Compute total loss\n",
    "    loss = content_loss + config.style_weight * style_loss\n",
    "    optimizer.zero_grad()\n",
    "    loss.backward()\n",
    "    optimizer.backward()\n",
    "    optimizer.step()\n",
    "    \n",
    "    if (step + 1) % config.log_step == 0:\n",
    "        print ('Step [{}/{}], Content Loss: {:.4f}, Style Loss: {:.4f}' \n",
    "                   .format(step+1, config.total_step, content_loss.item(), style_loss.item()))\n",
    "    \n",
    "    if (step+1) % config.sample_step == 0:\n",
    "            # Save the generated image\n",
    "            denorm = transforms.Normalize((-2.12, -2.04, -1.80), (4.37, 4.46, 4.44))\n",
    "            img = target.clone().squeeze()\n",
    "            img = denorm(img).clamp_(0, 1)\n",
    "            torchvision.utils.save_image(img, 'output-{}.png'.format(step+1))"
   ]
  },
  {
   "cell_type": "code",
   "execution_count": null,
   "id": "769b8066",
   "metadata": {},
   "outputs": [],
   "source": [
    "parser = argparse.ArgumentParser()\n",
    "parser.add_argument('--content', type=str, default='png/content.png')\n",
    "parser.add_argument('--style', type=str, default='png/style.png')\n",
    "parser.add_argument('--max_size', type=int, default=400)\n",
    "parser.add_argument('--total_step', type=int, default=2000)\n",
    "parser.add_argument('--log_step', type=int, default=10)\n",
    "parser.add_argument('--sample_step', type=int, default=500)\n",
    "parser.add_argument('--style_weight', type=float, default=100)\n",
    "parser.add_argument('--lr', type=float, default=0.003)\n",
    "config = parser.parse_args()\n",
    "print(config)\n",
    "main(config)"
   ]
  }
 ],
 "metadata": {
  "kernelspec": {
   "display_name": "Python 3 (ipykernel)",
   "language": "python",
   "name": "python3"
  },
  "language_info": {
   "codemirror_mode": {
    "name": "ipython",
    "version": 3
   },
   "file_extension": ".py",
   "mimetype": "text/x-python",
   "name": "python",
   "nbconvert_exporter": "python",
   "pygments_lexer": "ipython3",
   "version": "3.9.7"
  }
 },
 "nbformat": 4,
 "nbformat_minor": 5
}

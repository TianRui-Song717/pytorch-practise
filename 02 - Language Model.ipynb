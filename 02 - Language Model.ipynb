{
 "cells": [
  {
   "cell_type": "markdown",
   "id": "5a09f866",
   "metadata": {},
   "source": [
    "# **Language Model**"
   ]
  },
  {
   "cell_type": "code",
   "execution_count": 1,
   "id": "3a81f6ec",
   "metadata": {},
   "outputs": [],
   "source": [
    "import os\n",
    "\n",
    "import torch"
   ]
  },
  {
   "cell_type": "markdown",
   "id": "7b5b956a",
   "metadata": {},
   "source": [
    "### **Data utils**"
   ]
  },
  {
   "cell_type": "markdown",
   "id": "617611e6",
   "metadata": {},
   "source": [
    "**Dictionary**: \n",
    "\n",
    "- A dictionary which maps all words and its index (word2idx-{word:idx}; idx2word-{idx:word}) "
   ]
  },
  {
   "cell_type": "code",
   "execution_count": 2,
   "id": "ba1e92e8",
   "metadata": {},
   "outputs": [],
   "source": [
    "class Dictionary(object):\n",
    "    def __init__(self):\n",
    "        self.word2idx = {}\n",
    "        self.idx2word = {}\n",
    "        self.idx = 0\n",
    "        \n",
    "    def add_word(self, word):\n",
    "        if not word in self.word2idx:\n",
    "            # word not in the dict\n",
    "            self.word2idx[word] = self.idx\n",
    "            self.idx2word[self.idx] = word\n",
    "            self.idx += 1\n",
    "            \n",
    "    def __len__(self):\n",
    "        return len(self.word2idx)"
   ]
  },
  {
   "cell_type": "markdown",
   "id": "de62298d",
   "metadata": {},
   "source": [
    "**Corpus**\n",
    "- Generate the content in `Dictionary`\n",
    "- Tokenize the whole corpus"
   ]
  },
  {
   "cell_type": "code",
   "execution_count": 9,
   "id": "2e8c2d98",
   "metadata": {},
   "outputs": [],
   "source": [
    "class Corpus(object):\n",
    "    def __init__(self):\n",
    "        self.dictionary = Dictionary()\n",
    "        \n",
    "    def get_data(self, path, batch_size=20):\n",
    "        # Add words to the dictionary\n",
    "        with open(path, 'r') as f:\n",
    "            tokens = 0\n",
    "            for line in f:\n",
    "                words = line.split() + ['<eos>']\n",
    "                tokens += len(words)\n",
    "                for word in words:\n",
    "                    self.dictionary.add_word(word)\n",
    "                    \n",
    "        # Tokenize the file content\n",
    "        ids = torch.LongTensor(tokens)\n",
    "        token = 0\n",
    "        with open(path, 'r') as f:\n",
    "            for line in f:\n",
    "                words = line.split() + ['<eos>']\n",
    "                for word in words:\n",
    "                    # 将每个句子的每个单词，用其对应的idx表示，形成一个list\n",
    "                    ids[token] = self.dictionary.word2idx[word]\n",
    "                    token += 1\n",
    "        num_batches = ids.size(0) // batch_size\n",
    "        ids = ids[:num_batches * batch_size]\n",
    "        return ids.view(batch_size, -1)"
   ]
  },
  {
   "cell_type": "markdown",
   "id": "b114aa35",
   "metadata": {},
   "source": [
    "### **Main**"
   ]
  },
  {
   "cell_type": "code",
   "execution_count": 5,
   "id": "78859010",
   "metadata": {},
   "outputs": [],
   "source": [
    "import torch\n",
    "import torch.nn as nn\n",
    "import numpy as np\n",
    "from torch.nn.utils import clip_grad_norm_"
   ]
  },
  {
   "cell_type": "markdown",
   "id": "e82cea41",
   "metadata": {},
   "source": [
    "**Device**"
   ]
  },
  {
   "cell_type": "code",
   "execution_count": 6,
   "id": "7d3706d8",
   "metadata": {},
   "outputs": [],
   "source": [
    "# Device Config\n",
    "device = torch.device('cuda' if torch.cuda.is_available() else 'cpu')"
   ]
  },
  {
   "cell_type": "markdown",
   "id": "24fc5ca1",
   "metadata": {},
   "source": [
    "**Hyper-parameter**"
   ]
  },
  {
   "cell_type": "code",
   "execution_count": 7,
   "id": "30028b06",
   "metadata": {},
   "outputs": [],
   "source": [
    "# Hyper-parameter\n",
    "batch_size = 20\n",
    "learning_rate = 0.002\n",
    "num_epochs = 5\n",
    "\n",
    "seq_length = 30\n",
    "embed_size = 128\n",
    "hidden_size = 1024\n",
    "num_samples = 1000  # number of words to be sampled\n",
    "num_layers = 1"
   ]
  },
  {
   "cell_type": "markdown",
   "id": "7359442c",
   "metadata": {},
   "source": [
    "**Load \"Penn Treebank dataset\"**"
   ]
  },
  {
   "cell_type": "code",
   "execution_count": 11,
   "id": "0cb790c4",
   "metadata": {},
   "outputs": [],
   "source": [
    "corpus = Corpus()\n",
    "ids = corpus.get_data('data/02-LanguageModel/train.txt', batch_size)\n",
    "vocab_size = len(corpus.dictionary)\n",
    "num_batches = ids.size(1) // seq_length"
   ]
  },
  {
   "cell_type": "code",
   "execution_count": 21,
   "id": "957817bb",
   "metadata": {},
   "outputs": [
    {
     "data": {
      "text/plain": [
       "torch.Size([20, 46479])"
      ]
     },
     "execution_count": 21,
     "metadata": {},
     "output_type": "execute_result"
    }
   ],
   "source": [
    "ids.size()"
   ]
  },
  {
   "cell_type": "code",
   "execution_count": 15,
   "id": "d36a7e85",
   "metadata": {},
   "outputs": [
    {
     "data": {
      "text/plain": [
       "1549"
      ]
     },
     "execution_count": 15,
     "metadata": {},
     "output_type": "execute_result"
    }
   ],
   "source": [
    "num_batches"
   ]
  },
  {
   "cell_type": "markdown",
   "id": "4e7f778b",
   "metadata": {},
   "source": [
    "**RNN based language model**"
   ]
  },
  {
   "cell_type": "code",
   "execution_count": 22,
   "id": "a6ae8f84",
   "metadata": {},
   "outputs": [],
   "source": [
    "class RNNLM(nn.Module):\n",
    "    def __init__(self, vocab_size, embed_size, hidden_size, num_layers):\n",
    "        super(RNNLM, self).__init__()\n",
    "        self.embed = nn.Embedding(vocab_size, embed_size)\n",
    "        self.lstm = nn.LSTM(embed_size, hidden_size, num_layers, batch_first=True)\n",
    "        self.linear = nn.Linear(hidden_size, vocab_size)\n",
    "        \n",
    "    def forward(self, x, h):\n",
    "        # Embed the word ids to vector\n",
    "        x = self.embed(x)\n",
    "        \n",
    "        # Forward propagate\n",
    "        out, (h, c) = self.lstm(x, h)\n",
    "        \n",
    "        # Reshape output\n",
    "        out = out.reshape(-1, out.size(2))\n",
    "        \n",
    "        # Decode hidden states of all time steps\n",
    "        out = self.linear(out)\n",
    "        return out, (h, c)"
   ]
  },
  {
   "cell_type": "code",
   "execution_count": 24,
   "id": "1286c4aa",
   "metadata": {},
   "outputs": [],
   "source": [
    "model = RNNLM(vocab_size, embed_size, hidden_size, num_layers).to(device)"
   ]
  },
  {
   "cell_type": "markdown",
   "id": "e6fc0fdb",
   "metadata": {},
   "source": [
    "**Loss & Optimizer**"
   ]
  },
  {
   "cell_type": "code",
   "execution_count": 25,
   "id": "70e9a3bc",
   "metadata": {},
   "outputs": [],
   "source": [
    "criterion = nn.CrossEntropyLoss()\n",
    "optimizer = torch.optim.Adam(model.parameters(), lr=learning_rate)"
   ]
  },
  {
   "cell_type": "markdown",
   "id": "f02d3569",
   "metadata": {},
   "source": [
    "**Train the model**"
   ]
  },
  {
   "cell_type": "code",
   "execution_count": null,
   "id": "b696a8a6",
   "metadata": {},
   "outputs": [
    {
     "name": "stdout",
     "output_type": "stream",
     "text": [
      "Epoch [1/5], Step[0/1549], Loss: 9.2122, Perplexity: 10018.34\n",
      "Epoch [1/5], Step[100/1549], Loss: 6.0132, Perplexity: 408.80\n",
      "Epoch [1/5], Step[200/1549], Loss: 5.9409, Perplexity: 380.27\n",
      "Epoch [1/5], Step[300/1549], Loss: 5.7550, Perplexity: 315.78\n",
      "Epoch [1/5], Step[400/1549], Loss: 5.6825, Perplexity: 293.69\n"
     ]
    }
   ],
   "source": [
    "# Truncated backpropagation\n",
    "def detach(states):\n",
    "    return [state.detach() for state in states]\n",
    "\n",
    "# Train the model\n",
    "for epoch in range(num_epochs):\n",
    "    # Set initial hidden and cell states\n",
    "    states = (torch.zeros(num_layers, batch_size, hidden_size).to(device),\n",
    "              torch.zeros(num_layers, batch_size, hidden_size).to(device))\n",
    "    \n",
    "    for i in range(0, ids.size(1) - seq_length, seq_length):\n",
    "        # Get mini-batch inputs and targets\n",
    "        inputs = ids[:, i:i+seq_length].to(device)\n",
    "        targets = ids[:, (i+1):(i+1)+seq_length].to(device)\n",
    "\n",
    "        # Forward pass\n",
    "        states = detach(states)\n",
    "        outputs, states = model(inputs, states)\n",
    "        loss = criterion(outputs, targets.reshape(-1))\n",
    "\n",
    "        # Backward and optimize\n",
    "        optimizer.zero_grad()\n",
    "        loss.backward()\n",
    "        clip_grad_norm_(model.parameters(), 0.5)\n",
    "        optimizer.step()\n",
    "\n",
    "        step = (i+1) // seq_length\n",
    "        if step % 100 == 0:\n",
    "            print ('Epoch [{}/{}], Step[{}/{}], Loss: {:.4f}, Perplexity: {:5.2f}'\n",
    "                   .format(epoch+1, num_epochs, step, num_batches, loss.item(), np.exp(loss.item())))\n"
   ]
  },
  {
   "cell_type": "markdown",
   "id": "2c1c6260",
   "metadata": {},
   "source": [
    "**Test**"
   ]
  },
  {
   "cell_type": "code",
   "execution_count": null,
   "id": "3c6ec02e",
   "metadata": {},
   "outputs": [],
   "source": [
    "# Test the model\n",
    "with torch.no_grad():\n",
    "    with open('sample.txt', 'w') as f:\n",
    "        # Set intial hidden ane cell states\n",
    "        state = (torch.zeros(num_layers, 1, hidden_size).to(device),\n",
    "                 torch.zeros(num_layers, 1, hidden_size).to(device))\n",
    "\n",
    "        # Select one word id randomly\n",
    "        prob = torch.ones(vocab_size)\n",
    "        input = torch.multinomial(prob, num_samples=1).unsqueeze(1).to(device)\n",
    "\n",
    "        for i in range(num_samples):\n",
    "            # Forward propagate RNN \n",
    "            output, state = model(input, state)\n",
    "\n",
    "            # Sample a word id\n",
    "            prob = output.exp()\n",
    "            word_id = torch.multinomial(prob, num_samples=1).item()\n",
    "\n",
    "            # Fill input with sampled word id for the next time step\n",
    "            input.fill_(word_id)\n",
    "\n",
    "            # File write\n",
    "            word = corpus.dictionary.idx2word[word_id]\n",
    "            word = '\\n' if word == '<eos>' else word + ' '\n",
    "            f.write(word)\n",
    "\n",
    "            if (i+1) % 100 == 0:\n",
    "                print('Sampled [{}/{}] words and save to {}'.format(i+1, num_samples, 'sample.txt'))"
   ]
  },
  {
   "cell_type": "code",
   "execution_count": null,
   "id": "9a858d4e",
   "metadata": {},
   "outputs": [],
   "source": [
    "# Save the model checkpoints\n",
    "torch.save(model.state_dict(), './model/RNNLM.ckpt')"
   ]
  }
 ],
 "metadata": {
  "kernelspec": {
   "display_name": "Python 3 (ipykernel)",
   "language": "python",
   "name": "python3"
  },
  "language_info": {
   "codemirror_mode": {
    "name": "ipython",
    "version": 3
   },
   "file_extension": ".py",
   "mimetype": "text/x-python",
   "name": "python",
   "nbconvert_exporter": "python",
   "pygments_lexer": "ipython3",
   "version": "3.9.7"
  }
 },
 "nbformat": 4,
 "nbformat_minor": 5
}

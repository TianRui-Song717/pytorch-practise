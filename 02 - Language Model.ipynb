{
 "cells": [
  {
   "cell_type": "markdown",
   "id": "ee29c0c7",
   "metadata": {},
   "source": [
    "# **Language Model**"
   ]
  },
  {
   "cell_type": "code",
   "execution_count": 1,
   "id": "4e9d97e9",
   "metadata": {},
   "outputs": [],
   "source": [
    "import os\n",
    "\n",
    "import torch"
   ]
  },
  {
   "cell_type": "markdown",
   "id": "b93dee82",
   "metadata": {},
   "source": [
    "### **Data utils**"
   ]
  },
  {
   "cell_type": "markdown",
   "id": "6b846bb5",
   "metadata": {},
   "source": [
    "**Dictionary**: \n",
    "\n",
    "- A dictionary which maps all words and its index (word2idx-{word:idx}; idx2word-{idx:word}) "
   ]
  },
  {
   "cell_type": "code",
   "execution_count": 2,
   "id": "2aa8126d",
   "metadata": {},
   "outputs": [],
   "source": [
    "class Dictionary(object):\n",
    "    def __init__(self):\n",
    "        self.word2idx = {}\n",
    "        self.idx2word = {}\n",
    "        self.idx = 0\n",
    "        \n",
    "    def add_word(self, word):\n",
    "        if not word in self.word2idx:\n",
    "            # word not in the dict\n",
    "            self.word2idx[word] = self.idx\n",
    "            self.idx2word[self.idx] = word\n",
    "            self.idx += 1\n",
    "            \n",
    "    def __len__(self):\n",
    "        return len(self.word2idx)"
   ]
  },
  {
   "cell_type": "markdown",
   "id": "ec32d84a",
   "metadata": {},
   "source": [
    "**Corpus**\n",
    "- Generate the content in `Dictionary`\n",
    "- Tokenize the whole corpus"
   ]
  },
  {
   "cell_type": "code",
   "execution_count": 9,
   "id": "1b8605ec",
   "metadata": {},
   "outputs": [],
   "source": [
    "class Corpus(object):\n",
    "    def __init__(self):\n",
    "        self.dictionary = Dictionary()\n",
    "        \n",
    "    def get_data(self, path, batch_size=20):\n",
    "        # Add words to the dictionary\n",
    "        with open(path, 'r') as f:\n",
    "            tokens = 0  # the number of words in the corpus (different from vocab_size, which is unique word num)\n",
    "            for line in f:\n",
    "                words = line.split() + ['<eos>']\n",
    "                tokens += len(words)\n",
    "                for word in words:\n",
    "                    self.dictionary.add_word(word)\n",
    "                    \n",
    "        # Tokenize the file content\n",
    "        ids = torch.LongTensor(tokens)  # Create a list with size (tokens, ), all zero, token\n",
    "        token = 0\n",
    "        with open(path, 'r') as f:\n",
    "            for line in f:\n",
    "                words = line.split() + ['<eos>']\n",
    "                for word in words:\n",
    "                    # 一个huge list, 将corpus中每个句子的每个单词，用其对应的idx表示\n",
    "                    ids[token] = self.dictionary.word2idx[word] \n",
    "                    token += 1\n",
    "        num_batches = ids.size(0) // batch_size  # 将corpus中的单词划分为多个batch\n",
    "        ids = ids[:num_batches * batch_size]  # 去除多余的最后一个batch的文本\n",
    "        return ids.view(batch_size, -1)  # 将corpus中的文本，作为一个batch的数据"
   ]
  },
  {
   "cell_type": "markdown",
   "id": "6e67df8c",
   "metadata": {},
   "source": [
    "### **Main**"
   ]
  },
  {
   "cell_type": "code",
   "execution_count": 5,
   "id": "f3d8df16",
   "metadata": {},
   "outputs": [],
   "source": [
    "import torch\n",
    "import torch.nn as nn\n",
    "import numpy as np\n",
    "from torch.nn.utils import clip_grad_norm_"
   ]
  },
  {
   "cell_type": "markdown",
   "id": "5f0280fe",
   "metadata": {},
   "source": [
    "**Device**"
   ]
  },
  {
   "cell_type": "code",
   "execution_count": 6,
   "id": "f15df610",
   "metadata": {},
   "outputs": [],
   "source": [
    "# Device Config\n",
    "device = torch.device('cuda' if torch.cuda.is_available() else 'cpu')"
   ]
  },
  {
   "cell_type": "markdown",
   "id": "9cd378a1",
   "metadata": {},
   "source": [
    "**Hyper-parameter**"
   ]
  },
  {
   "cell_type": "code",
   "execution_count": 7,
   "id": "dc854f96",
   "metadata": {},
   "outputs": [],
   "source": [
    "# Hyper-parameter\n",
    "batch_size = 20\n",
    "learning_rate = 0.002\n",
    "num_epochs = 5\n",
    "\n",
    "seq_length = 30\n",
    "embed_size = 128\n",
    "hidden_size = 1024\n",
    "num_samples = 1000  # number of words to be sampled\n",
    "num_layers = 1"
   ]
  },
  {
   "cell_type": "markdown",
   "id": "1c86002a",
   "metadata": {},
   "source": [
    "**Load \"Penn Treebank dataset\"**"
   ]
  },
  {
   "cell_type": "code",
   "execution_count": 11,
   "id": "5d5407ae",
   "metadata": {},
   "outputs": [],
   "source": [
    "corpus = Corpus()\n",
    "ids = corpus.get_data('data/02-LanguageModel/train.txt', batch_size)\n",
    "vocab_size = len(corpus.dictionary)\n",
    "num_batches = ids.size(1) // seq_length"
   ]
  },
  {
   "cell_type": "code",
   "execution_count": 21,
   "id": "f2da6033",
   "metadata": {},
   "outputs": [
    {
     "data": {
      "text/plain": [
       "torch.Size([20, 46479])"
      ]
     },
     "execution_count": 21,
     "metadata": {},
     "output_type": "execute_result"
    }
   ],
   "source": [
    "ids.size()"
   ]
  },
  {
   "cell_type": "code",
   "execution_count": 15,
   "id": "3a077745",
   "metadata": {},
   "outputs": [
    {
     "data": {
      "text/plain": [
       "1549"
      ]
     },
     "execution_count": 15,
     "metadata": {},
     "output_type": "execute_result"
    }
   ],
   "source": [
    "num_batches"
   ]
  },
  {
   "cell_type": "markdown",
   "id": "e1c6db4e",
   "metadata": {},
   "source": [
    "**RNN based language model**"
   ]
  },
  {
   "cell_type": "code",
   "execution_count": 22,
   "id": "255ad24f",
   "metadata": {},
   "outputs": [],
   "source": [
    "class RNNLM(nn.Module):\n",
    "    def __init__(self, vocab_size, embed_size, hidden_size, num_layers):\n",
    "        super(RNNLM, self).__init__()\n",
    "        self.embed = nn.Embedding(vocab_size, embed_size)\n",
    "        self.lstm = nn.LSTM(embed_size, hidden_size, num_layers, batch_first=True)\n",
    "        self.linear = nn.Linear(hidden_size, vocab_size)\n",
    "        \n",
    "    def forward(self, x, h):\n",
    "        # Embed the word ids to vector\n",
    "        x = self.embed(x)\n",
    "        \n",
    "        # Forward propagate\n",
    "        out, (h, c) = self.lstm(x, h)\n",
    "        \n",
    "        # Reshape output\n",
    "        out = out.reshape(-1, out.size(2))\n",
    "        \n",
    "        # Decode hidden states of all time steps\n",
    "        out = self.linear(out)\n",
    "        return out, (h, c)"
   ]
  },
  {
   "cell_type": "code",
   "execution_count": 24,
   "id": "d43e8fe7",
   "metadata": {},
   "outputs": [],
   "source": [
    "model = RNNLM(vocab_size, embed_size, hidden_size, num_layers).to(device)"
   ]
  },
  {
   "cell_type": "markdown",
   "id": "4dd0a864",
   "metadata": {},
   "source": [
    "**Loss & Optimizer**"
   ]
  },
  {
   "cell_type": "code",
   "execution_count": 25,
   "id": "afa6dbbf",
   "metadata": {},
   "outputs": [],
   "source": [
    "criterion = nn.CrossEntropyLoss()\n",
    "optimizer = torch.optim.Adam(model.parameters(), lr=learning_rate)"
   ]
  },
  {
   "cell_type": "markdown",
   "id": "edc666e7",
   "metadata": {},
   "source": [
    "**Train the model**"
   ]
  },
  {
   "cell_type": "code",
   "execution_count": 27,
   "id": "9faf6342",
   "metadata": {},
   "outputs": [
    {
     "name": "stdout",
     "output_type": "stream",
     "text": [
      "Epoch [1/5], Step[0/1549], Loss: 9.2122, Perplexity: 10018.34\n",
      "Epoch [1/5], Step[100/1549], Loss: 6.0132, Perplexity: 408.80\n",
      "Epoch [1/5], Step[200/1549], Loss: 5.9409, Perplexity: 380.27\n",
      "Epoch [1/5], Step[300/1549], Loss: 5.7550, Perplexity: 315.78\n",
      "Epoch [1/5], Step[400/1549], Loss: 5.6825, Perplexity: 293.69\n",
      "Epoch [1/5], Step[500/1549], Loss: 5.1260, Perplexity: 168.34\n",
      "Epoch [1/5], Step[600/1549], Loss: 5.1548, Perplexity: 173.26\n",
      "Epoch [1/5], Step[700/1549], Loss: 5.3420, Perplexity: 208.92\n",
      "Epoch [1/5], Step[800/1549], Loss: 5.2076, Perplexity: 182.65\n",
      "Epoch [1/5], Step[900/1549], Loss: 5.0553, Perplexity: 156.85\n",
      "Epoch [1/5], Step[1000/1549], Loss: 5.0837, Perplexity: 161.37\n",
      "Epoch [1/5], Step[1100/1549], Loss: 5.3192, Perplexity: 204.21\n",
      "Epoch [1/5], Step[1200/1549], Loss: 5.2172, Perplexity: 184.41\n",
      "Epoch [1/5], Step[1300/1549], Loss: 5.0861, Perplexity: 161.77\n",
      "Epoch [1/5], Step[1400/1549], Loss: 4.8080, Perplexity: 122.49\n",
      "Epoch [1/5], Step[1500/1549], Loss: 5.1644, Perplexity: 174.94\n",
      "Epoch [2/5], Step[0/1549], Loss: 5.4013, Perplexity: 221.70\n",
      "Epoch [2/5], Step[100/1549], Loss: 4.5142, Perplexity: 91.30\n",
      "Epoch [2/5], Step[200/1549], Loss: 4.7142, Perplexity: 111.52\n",
      "Epoch [2/5], Step[300/1549], Loss: 4.6155, Perplexity: 101.04\n",
      "Epoch [2/5], Step[400/1549], Loss: 4.5724, Perplexity: 96.77\n",
      "Epoch [2/5], Step[500/1549], Loss: 4.1045, Perplexity: 60.61\n",
      "Epoch [2/5], Step[600/1549], Loss: 4.4269, Perplexity: 83.68\n",
      "Epoch [2/5], Step[700/1549], Loss: 4.4463, Perplexity: 85.31\n",
      "Epoch [2/5], Step[800/1549], Loss: 4.4210, Perplexity: 83.18\n",
      "Epoch [2/5], Step[900/1549], Loss: 4.2029, Perplexity: 66.88\n",
      "Epoch [2/5], Step[1000/1549], Loss: 4.3060, Perplexity: 74.14\n",
      "Epoch [2/5], Step[1100/1549], Loss: 4.5160, Perplexity: 91.47\n",
      "Epoch [2/5], Step[1200/1549], Loss: 4.5544, Perplexity: 95.05\n",
      "Epoch [2/5], Step[1300/1549], Loss: 4.2678, Perplexity: 71.36\n",
      "Epoch [2/5], Step[1400/1549], Loss: 3.9875, Perplexity: 53.92\n",
      "Epoch [2/5], Step[1500/1549], Loss: 4.3197, Perplexity: 75.16\n",
      "Epoch [3/5], Step[0/1549], Loss: 4.4339, Perplexity: 84.26\n",
      "Epoch [3/5], Step[100/1549], Loss: 3.8516, Perplexity: 47.07\n",
      "Epoch [3/5], Step[200/1549], Loss: 4.0549, Perplexity: 57.68\n",
      "Epoch [3/5], Step[300/1549], Loss: 3.9220, Perplexity: 50.50\n",
      "Epoch [3/5], Step[400/1549], Loss: 3.8794, Perplexity: 48.39\n",
      "Epoch [3/5], Step[500/1549], Loss: 3.4083, Perplexity: 30.21\n",
      "Epoch [3/5], Step[600/1549], Loss: 3.8385, Perplexity: 46.46\n",
      "Epoch [3/5], Step[700/1549], Loss: 3.8293, Perplexity: 46.03\n",
      "Epoch [3/5], Step[800/1549], Loss: 3.8083, Perplexity: 45.08\n",
      "Epoch [3/5], Step[900/1549], Loss: 3.4961, Perplexity: 32.99\n",
      "Epoch [3/5], Step[1000/1549], Loss: 3.6446, Perplexity: 38.27\n",
      "Epoch [3/5], Step[1100/1549], Loss: 3.7370, Perplexity: 41.97\n",
      "Epoch [3/5], Step[1200/1549], Loss: 3.8359, Perplexity: 46.34\n",
      "Epoch [3/5], Step[1300/1549], Loss: 3.5144, Perplexity: 33.60\n",
      "Epoch [3/5], Step[1400/1549], Loss: 3.2357, Perplexity: 25.42\n",
      "Epoch [3/5], Step[1500/1549], Loss: 3.6263, Perplexity: 37.57\n",
      "Epoch [4/5], Step[0/1549], Loss: 3.5117, Perplexity: 33.50\n",
      "Epoch [4/5], Step[100/1549], Loss: 3.3129, Perplexity: 27.46\n",
      "Epoch [4/5], Step[200/1549], Loss: 3.4844, Perplexity: 32.60\n",
      "Epoch [4/5], Step[300/1549], Loss: 3.3875, Perplexity: 29.59\n",
      "Epoch [4/5], Step[400/1549], Loss: 3.4052, Perplexity: 30.12\n",
      "Epoch [4/5], Step[500/1549], Loss: 2.8742, Perplexity: 17.71\n",
      "Epoch [4/5], Step[600/1549], Loss: 3.4191, Perplexity: 30.54\n",
      "Epoch [4/5], Step[700/1549], Loss: 3.2887, Perplexity: 26.81\n",
      "Epoch [4/5], Step[800/1549], Loss: 3.3626, Perplexity: 28.86\n",
      "Epoch [4/5], Step[900/1549], Loss: 2.9964, Perplexity: 20.01\n",
      "Epoch [4/5], Step[1000/1549], Loss: 3.1461, Perplexity: 23.25\n",
      "Epoch [4/5], Step[1100/1549], Loss: 3.2025, Perplexity: 24.59\n",
      "Epoch [4/5], Step[1200/1549], Loss: 3.3290, Perplexity: 27.91\n",
      "Epoch [4/5], Step[1300/1549], Loss: 3.0424, Perplexity: 20.95\n",
      "Epoch [4/5], Step[1400/1549], Loss: 2.7117, Perplexity: 15.05\n",
      "Epoch [4/5], Step[1500/1549], Loss: 3.1512, Perplexity: 23.36\n",
      "Epoch [5/5], Step[0/1549], Loss: 2.9588, Perplexity: 19.28\n",
      "Epoch [5/5], Step[100/1549], Loss: 2.8958, Perplexity: 18.10\n",
      "Epoch [5/5], Step[200/1549], Loss: 3.0548, Perplexity: 21.22\n",
      "Epoch [5/5], Step[300/1549], Loss: 3.0447, Perplexity: 21.00\n",
      "Epoch [5/5], Step[400/1549], Loss: 3.0263, Perplexity: 20.62\n",
      "Epoch [5/5], Step[500/1549], Loss: 2.4895, Perplexity: 12.06\n",
      "Epoch [5/5], Step[600/1549], Loss: 3.1155, Perplexity: 22.55\n",
      "Epoch [5/5], Step[700/1549], Loss: 2.9779, Perplexity: 19.65\n",
      "Epoch [5/5], Step[800/1549], Loss: 3.0409, Perplexity: 20.92\n",
      "Epoch [5/5], Step[900/1549], Loss: 2.6820, Perplexity: 14.61\n",
      "Epoch [5/5], Step[1000/1549], Loss: 2.8865, Perplexity: 17.93\n",
      "Epoch [5/5], Step[1100/1549], Loss: 2.8301, Perplexity: 16.95\n",
      "Epoch [5/5], Step[1200/1549], Loss: 3.0057, Perplexity: 20.20\n",
      "Epoch [5/5], Step[1300/1549], Loss: 2.7756, Perplexity: 16.05\n",
      "Epoch [5/5], Step[1400/1549], Loss: 2.4144, Perplexity: 11.18\n",
      "Epoch [5/5], Step[1500/1549], Loss: 2.8784, Perplexity: 17.79\n"
     ]
    }
   ],
   "source": [
    "# Truncated backpropagation\n",
    "def detach(states):\n",
    "    return [state.detach() for state in states]\n",
    "\n",
    "# Train the model\n",
    "for epoch in range(num_epochs):\n",
    "    # Set initial hidden and cell states\n",
    "    states = (torch.zeros(num_layers, batch_size, hidden_size).to(device),\n",
    "              torch.zeros(num_layers, batch_size, hidden_size).to(device))\n",
    "    \n",
    "    for i in range(0, ids.size(1) - seq_length, seq_length):\n",
    "        # Get mini-batch inputs and targets\n",
    "        inputs = ids[:, i:i+seq_length].to(device)  # 用前面的词，预测后一个词 （batch_size, seq_len)\n",
    "        targets = ids[:, (i+1):(i+1)+seq_length].to(device) # 最后一个词 （batch_size, seq_len)\n",
    "\n",
    "        # Forward pass\n",
    "        states = detach(states)\n",
    "        outputs, states = model(inputs, states)\n",
    "        loss = criterion(outputs, targets.reshape(-1))\n",
    "\n",
    "        # Backward and optimize\n",
    "        optimizer.zero_grad()\n",
    "        loss.backward()\n",
    "        clip_grad_norm_(model.parameters(), 0.5)\n",
    "        optimizer.step()\n",
    "\n",
    "        step = (i+1) // seq_length\n",
    "        if step % 100 == 0:\n",
    "            print ('Epoch [{}/{}], Step[{}/{}], Loss: {:.4f}, Perplexity: {:5.2f}'\n",
    "                   .format(epoch+1, num_epochs, step, num_batches, loss.item(), np.exp(loss.item())))\n"
   ]
  },
  {
   "cell_type": "markdown",
   "id": "625c3182",
   "metadata": {},
   "source": [
    "**Test**"
   ]
  },
  {
   "cell_type": "code",
   "execution_count": null,
   "id": "d74868a7",
   "metadata": {},
   "outputs": [],
   "source": [
    "# Test the model\n",
    "with torch.no_grad():\n",
    "    with open('sample.txt', 'w') as f:\n",
    "        # Set intial hidden ane cell states\n",
    "        state = (torch.zeros(num_layers, 1, hidden_size).to(device),\n",
    "                 torch.zeros(num_layers, 1, hidden_size).to(device))\n",
    "\n",
    "        # Select one word id randomly\n",
    "        prob = torch.ones(vocab_size)\n",
    "        input = torch.multinomial(prob, num_samples=1).unsqueeze(1).to(device)\n",
    "\n",
    "        for i in range(num_samples):\n",
    "            # Forward propagate RNN \n",
    "            output, state = model(input, state)\n",
    "\n",
    "            # Sample a word id\n",
    "            prob = output.exp()\n",
    "            word_id = torch.multinomial(prob, num_samples=1).item()\n",
    "\n",
    "            # Fill input with sampled word id for the next time step\n",
    "            input.fill_(word_id)\n",
    "\n",
    "            # File write\n",
    "            word = corpus.dictionary.idx2word[word_id]\n",
    "            word = '\\n' if word == '<eos>' else word + ' '\n",
    "            f.write(word)\n",
    "\n",
    "            if (i+1) % 100 == 0:\n",
    "                print('Sampled [{}/{}] words and save to {}'.format(i+1, num_samples, 'sample.txt'))"
   ]
  },
  {
   "cell_type": "code",
   "execution_count": 28,
   "id": "915d5f3a",
   "metadata": {},
   "outputs": [],
   "source": [
    "# Save the model checkpoints\n",
    "torch.save(model.state_dict(), './model/RNNLM.ckpt')"
   ]
  }
 ],
 "metadata": {
  "kernelspec": {
   "display_name": "Python 3 (ipykernel)",
   "language": "python",
   "name": "python3"
  },
  "language_info": {
   "codemirror_mode": {
    "name": "ipython",
    "version": 3
   },
   "file_extension": ".py",
   "mimetype": "text/x-python",
   "name": "python",
   "nbconvert_exporter": "python",
   "pygments_lexer": "ipython3",
   "version": "3.9.7"
  }
 },
 "nbformat": 4,
 "nbformat_minor": 5
}

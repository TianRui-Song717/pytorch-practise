{
 "cells": [
  {
   "cell_type": "markdown",
   "id": "b4335cb5",
   "metadata": {},
   "source": [
    "# **VAE**"
   ]
  },
  {
   "cell_type": "code",
   "execution_count": 1,
   "id": "b34c295d",
   "metadata": {},
   "outputs": [],
   "source": [
    "import os\n",
    "import torch\n",
    "import torch.nn as nn\n",
    "import torch.nn.functional as F\n",
    "import torchvision\n",
    "from torchvision import transforms\n",
    "from torchvision.utils import save_image"
   ]
  },
  {
   "cell_type": "markdown",
   "id": "9f3d4f09",
   "metadata": {},
   "source": [
    "### **Device**"
   ]
  },
  {
   "cell_type": "code",
   "execution_count": 2,
   "id": "9dfd3a2c",
   "metadata": {},
   "outputs": [],
   "source": [
    "device = torch.device('cuda' if torch.cuda.is_available() else 'cpu')"
   ]
  },
  {
   "cell_type": "markdown",
   "id": "2d7666af",
   "metadata": {},
   "source": [
    "### **Hyper-parameter**"
   ]
  },
  {
   "cell_type": "code",
   "execution_count": 3,
   "id": "694fbeff",
   "metadata": {},
   "outputs": [],
   "source": [
    "image_size = 784\n",
    "h_dim = 400 # hidden state dim\n",
    "z_dim = 20 # z-latent dim\n",
    "num_epochs = 15\n",
    "batch_size = 128\n",
    "learning_rate = 1e-3"
   ]
  },
  {
   "cell_type": "code",
   "execution_count": 4,
   "id": "9a81bcb3",
   "metadata": {},
   "outputs": [],
   "source": [
    "sample_dir = 'samples'\n",
    "if not os.path.exists(sample_dir):\n",
    "    os.makedirs(sample_dir)"
   ]
  },
  {
   "cell_type": "markdown",
   "id": "0aec966d",
   "metadata": {},
   "source": [
    "### **Dataset & DataLoader**"
   ]
  },
  {
   "cell_type": "code",
   "execution_count": 5,
   "id": "d9a65464",
   "metadata": {},
   "outputs": [],
   "source": [
    "# MNIST dataset\n",
    "dataset = torchvision.datasets.MNIST(root=\"./data\", \n",
    "                                     train=True, \n",
    "                                     transform=transforms.ToTensor(),\n",
    "                                     download=False)\n",
    "\n",
    "# Data Loader\n",
    "data_loader = torch.utils.data.DataLoader(dataset=dataset,\n",
    "                                          batch_size=batch_size,\n",
    "                                          shuffle=True)"
   ]
  },
  {
   "cell_type": "markdown",
   "id": "7d1590e8",
   "metadata": {},
   "source": [
    "### **VAE model**\n",
    "\n",
    "- 知乎【VAE模型】：[link](https://zhuanlan.zhihu.com/p/34998569?utm_campaign=shareopn&utm_medium=social&utm_oi=994876384665292800&utm_psn=1638135436173361152&utm_source=wechat_session)"
   ]
  },
  {
   "cell_type": "code",
   "execution_count": 6,
   "id": "5e49e757",
   "metadata": {},
   "outputs": [],
   "source": [
    "class VAE(nn.Module):\n",
    "    def __init__(self, image_size=784, h_dim=400, z_dim=20):\n",
    "        super(VAE, self).__init__()\n",
    "        self.fc1 = nn.Linear(image_size, h_dim)\n",
    "        self.fc2 = nn.Linear(h_dim, z_dim)\n",
    "        self.fc3 = nn.Linear(h_dim, z_dim)\n",
    "        self.fc4 = nn.Linear(z_dim, h_dim)\n",
    "        self.fc5 = nn.Linear(h_dim, image_size)\n",
    "    \n",
    "    def encode(self, x):\n",
    "        h = F.relu(self.fc1(x))\n",
    "        return self.fc2(h), self.fc3(h)\n",
    "    \n",
    "    def decode(self, z):\n",
    "        h = F.relu(self.fc4(z))\n",
    "        return F.sigmoid(self.fc5(h))\n",
    "    \n",
    "    def reparameterize(self, mu, log_var):\n",
    "        std = torch.exp(log_var/2)\n",
    "        eps = torch.randn_like(std)\n",
    "        return mu + eps * std\n",
    "    \n",
    "    def forward(self, x):\n",
    "        mu, log_var = self.encode(x)\n",
    "        z = self.reparameterize(mu, log_var)\n",
    "        x_reconst = self.decode(z)\n",
    "        return x_reconst, mu, log_var"
   ]
  },
  {
   "cell_type": "code",
   "execution_count": 7,
   "id": "f7ff56df",
   "metadata": {},
   "outputs": [],
   "source": [
    "model = VAE().to(device)"
   ]
  },
  {
   "cell_type": "markdown",
   "id": "b94b6f3a",
   "metadata": {},
   "source": [
    "### **Training Config**"
   ]
  },
  {
   "cell_type": "code",
   "execution_count": 8,
   "id": "788e2a11",
   "metadata": {},
   "outputs": [],
   "source": [
    "optimizer = torch.optim.Adam(model.parameters(), lr=learning_rate)"
   ]
  },
  {
   "cell_type": "markdown",
   "id": "022bda18",
   "metadata": {},
   "source": [
    "## **Train**"
   ]
  },
  {
   "cell_type": "code",
   "execution_count": null,
   "id": "fc073e7c",
   "metadata": {},
   "outputs": [],
   "source": []
  }
 ],
 "metadata": {
  "kernelspec": {
   "display_name": "Python 3 (ipykernel)",
   "language": "python",
   "name": "python3"
  },
  "language_info": {
   "codemirror_mode": {
    "name": "ipython",
    "version": 3
   },
   "file_extension": ".py",
   "mimetype": "text/x-python",
   "name": "python",
   "nbconvert_exporter": "python",
   "pygments_lexer": "ipython3",
   "version": "3.9.7"
  }
 },
 "nbformat": 4,
 "nbformat_minor": 5
}

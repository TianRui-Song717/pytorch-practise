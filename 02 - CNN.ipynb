{
 "cells": [
  {
   "cell_type": "markdown",
   "id": "aad8d071",
   "metadata": {},
   "source": [
    "# **Convolution Neural Network**"
   ]
  },
  {
   "cell_type": "code",
   "execution_count": 1,
   "id": "1699f571",
   "metadata": {},
   "outputs": [],
   "source": [
    "import torch\n",
    "import torch.nn as nn\n",
    "import torchvision\n",
    "import torchvision.transforms as transforms"
   ]
  },
  {
   "cell_type": "markdown",
   "id": "1961ff66",
   "metadata": {},
   "source": [
    "**Device**"
   ]
  },
  {
   "cell_type": "code",
   "execution_count": 2,
   "id": "456fa2c1",
   "metadata": {},
   "outputs": [],
   "source": [
    "device = torch.device('cuda:0' if torch.cuda.is_available() else 'cpu')"
   ]
  },
  {
   "cell_type": "markdown",
   "id": "9dd083bb",
   "metadata": {},
   "source": [
    "**Hyper-parameter**"
   ]
  },
  {
   "cell_type": "code",
   "execution_count": 4,
   "id": "5b6e85e0",
   "metadata": {},
   "outputs": [],
   "source": [
    "num_epochs = 5\n",
    "num_classes = 10\n",
    "batch_size = 100\n",
    "learning_rate = 0.001"
   ]
  },
  {
   "cell_type": "markdown",
   "id": "2e26a26d",
   "metadata": {},
   "source": [
    "**Dataset**"
   ]
  },
  {
   "cell_type": "code",
   "execution_count": 5,
   "id": "edc45a92",
   "metadata": {},
   "outputs": [],
   "source": [
    "train_dataset = torchvision.datasets.MNIST(root=\"./data/\",\n",
    "                                           train=True, \n",
    "                                           transform=transforms.ToTensor(),\n",
    "                                           download=True)\n",
    "\n",
    "test_dataset = torchvision.datasets.MNIST(root=\"./data/\",\n",
    "                                          train=True,\n",
    "                                          transform=transforms.ToTensor(),\n",
    "                                          download=True)"
   ]
  },
  {
   "cell_type": "markdown",
   "id": "64104e45",
   "metadata": {},
   "source": [
    "**DataLoader**"
   ]
  },
  {
   "cell_type": "code",
   "execution_count": 6,
   "id": "009c2b13",
   "metadata": {},
   "outputs": [],
   "source": [
    "train_loader = torch.utils.data.DataLoader(dataset=train_dataset,\n",
    "                                           batch_size=batch_size,\n",
    "                                           shuffle=True)\n",
    "\n",
    "test_loader = torch.utils.data.DataLoader(dataset=test_dataset,\n",
    "                                           batch_size=batch_size,\n",
    "                                           shuffle=False)"
   ]
  },
  {
   "cell_type": "markdown",
   "id": "6172d51e",
   "metadata": {},
   "source": [
    "**CNN**"
   ]
  },
  {
   "cell_type": "code",
   "execution_count": 7,
   "id": "9399f620",
   "metadata": {},
   "outputs": [],
   "source": [
    "class ConvNet(nn.Module):\n",
    "    def __init__(self, num_classes=10):\n",
    "        super(ConvNet, self).__init__()\n",
    "        self.layer1 = nn.Sequential(\n",
    "            nn.Conv2d(1, 16, kernel_size=5, stride=1, padding=2),\n",
    "            nn.BatchNorm2d(16),\n",
    "            nn.ReLU(),\n",
    "            nn.MaxPool2d(kernel_size=2, stride=2))\n",
    "        self.layer2 = nn.Sequential(\n",
    "            nn.Conv2d(16, 32, kernel_size=5, stride=1, padding=2),\n",
    "            nn.BatchNorm2d(32),\n",
    "            nn.ReLU(),\n",
    "            nn.MaxPool2d(kernel_size=2, stride=2))\n",
    "        self.fc = nn.Linear(7*7*32, num_classes)\n",
    "        \n",
    "    def forward(self, x):\n",
    "        out = self.layer1(x)\n",
    "        out = self.layer2(out)\n",
    "        out = out.reshape(out.size(0), -1)\n",
    "        out = self.fc(out)\n",
    "        return out\n",
    "\n",
    "model = ConvNet(num_classes).to(device)"
   ]
  },
  {
   "cell_type": "markdown",
   "id": "8aa768b1",
   "metadata": {},
   "source": [
    "**Loss and Optimizer**"
   ]
  },
  {
   "cell_type": "code",
   "execution_count": 8,
   "id": "eb775894",
   "metadata": {},
   "outputs": [],
   "source": [
    "criterion = nn.CrossEntropyLoss()\n",
    "optimizer = torch.optim.Adam(model.parameters(), lr=learning_rate)"
   ]
  },
  {
   "cell_type": "markdown",
   "id": "7a2e3cf1",
   "metadata": {},
   "source": [
    "**Train Model**"
   ]
  },
  {
   "cell_type": "code",
   "execution_count": 9,
   "id": "52b8424f",
   "metadata": {},
   "outputs": [
    {
     "name": "stdout",
     "output_type": "stream",
     "text": [
      "Epoch [1/5], Step [100/600], Loss: 0.1265\n",
      "Epoch [1/5], Step [200/600], Loss: 0.0753\n",
      "Epoch [1/5], Step [300/600], Loss: 0.0246\n",
      "Epoch [1/5], Step [400/600], Loss: 0.1623\n",
      "Epoch [1/5], Step [500/600], Loss: 0.0278\n",
      "Epoch [1/5], Step [600/600], Loss: 0.0651\n",
      "Epoch [2/5], Step [100/600], Loss: 0.0561\n",
      "Epoch [2/5], Step [200/600], Loss: 0.0355\n",
      "Epoch [2/5], Step [300/600], Loss: 0.1543\n",
      "Epoch [2/5], Step [400/600], Loss: 0.0077\n",
      "Epoch [2/5], Step [500/600], Loss: 0.0236\n",
      "Epoch [2/5], Step [600/600], Loss: 0.0221\n",
      "Epoch [3/5], Step [100/600], Loss: 0.0736\n",
      "Epoch [3/5], Step [200/600], Loss: 0.0408\n",
      "Epoch [3/5], Step [300/600], Loss: 0.0548\n",
      "Epoch [3/5], Step [400/600], Loss: 0.0225\n",
      "Epoch [3/5], Step [500/600], Loss: 0.0114\n",
      "Epoch [3/5], Step [600/600], Loss: 0.1016\n",
      "Epoch [4/5], Step [100/600], Loss: 0.0053\n",
      "Epoch [4/5], Step [200/600], Loss: 0.0073\n",
      "Epoch [4/5], Step [300/600], Loss: 0.0993\n",
      "Epoch [4/5], Step [400/600], Loss: 0.0131\n",
      "Epoch [4/5], Step [500/600], Loss: 0.0914\n",
      "Epoch [4/5], Step [600/600], Loss: 0.0011\n",
      "Epoch [5/5], Step [100/600], Loss: 0.0478\n",
      "Epoch [5/5], Step [200/600], Loss: 0.0432\n",
      "Epoch [5/5], Step [300/600], Loss: 0.0259\n",
      "Epoch [5/5], Step [400/600], Loss: 0.0163\n",
      "Epoch [5/5], Step [500/600], Loss: 0.0255\n",
      "Epoch [5/5], Step [600/600], Loss: 0.0745\n"
     ]
    }
   ],
   "source": [
    "total_step = len(train_loader)\n",
    "for epoch in range(num_epochs):\n",
    "    for i, (images, labels) in enumerate(train_loader):\n",
    "        images = images.to(device)\n",
    "        labels = labels.to(device)\n",
    "        \n",
    "        # Forward pass\n",
    "        outputs = model(images)\n",
    "        loss = criterion(outputs, labels)\n",
    "        \n",
    "        # Backward and optimize\n",
    "        optimizer.zero_grad()\n",
    "        loss.backward()\n",
    "        optimizer.step()\n",
    "        \n",
    "        if (i+1) % 100 == 0:\n",
    "            print ('Epoch [{}/{}], Step [{}/{}], Loss: {:.4f}' \n",
    "                   .format(epoch+1, num_epochs, i+1, total_step, loss.item()))"
   ]
  },
  {
   "cell_type": "markdown",
   "id": "0e154548",
   "metadata": {},
   "source": [
    "**Test Model**"
   ]
  },
  {
   "cell_type": "code",
   "execution_count": 11,
   "id": "5e33c318",
   "metadata": {},
   "outputs": [],
   "source": [
    "model.eval()  # eval mode (batchnorm uses moving mean/variance instead of mini-batch mean/variance)\n",
    "with torch.no_grad():\n",
    "    correct = 0\n",
    "    total = 0\n",
    "    for images, labels in test_loader:\n",
    "        images = images.to(device)\n",
    "        labels = labels.to(device)\n",
    "        outputs = model(images)\n",
    "        _, predicted = torch.max(outputs.data, 1)\n",
    "        total += labels.size(0)\n",
    "        correct += (predicted == labels).sum().item()"
   ]
  },
  {
   "cell_type": "markdown",
   "id": "6107721c",
   "metadata": {},
   "source": [
    "**Save & Load Model**"
   ]
  },
  {
   "cell_type": "code",
   "execution_count": 12,
   "id": "0d05220a",
   "metadata": {},
   "outputs": [],
   "source": [
    "# Save the model checkpoint\n",
    "torch.save(model.state_dict(), './model/CNN_model.ckpt')"
   ]
  },
  {
   "cell_type": "code",
   "execution_count": 15,
   "id": "c2a640ce",
   "metadata": {},
   "outputs": [
    {
     "data": {
      "text/plain": [
       "<All keys matched successfully>"
      ]
     },
     "execution_count": 15,
     "metadata": {},
     "output_type": "execute_result"
    }
   ],
   "source": [
    "model.load_state_dict(torch.load('./model/CNN_model.ckpt'))"
   ]
  }
 ],
 "metadata": {
  "kernelspec": {
   "display_name": "Python 3 (ipykernel)",
   "language": "python",
   "name": "python3"
  },
  "language_info": {
   "codemirror_mode": {
    "name": "ipython",
    "version": 3
   },
   "file_extension": ".py",
   "mimetype": "text/x-python",
   "name": "python",
   "nbconvert_exporter": "python",
   "pygments_lexer": "ipython3",
   "version": "3.9.7"
  }
 },
 "nbformat": 4,
 "nbformat_minor": 5
}

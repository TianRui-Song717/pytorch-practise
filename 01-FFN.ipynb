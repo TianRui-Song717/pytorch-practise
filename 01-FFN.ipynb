{
 "cells": [
  {
   "cell_type": "markdown",
   "id": "804ae53e",
   "metadata": {},
   "source": [
    "# **Feed Forward Network**"
   ]
  },
  {
   "cell_type": "code",
   "execution_count": 1,
   "id": "4bf9f566",
   "metadata": {},
   "outputs": [],
   "source": [
    "import torch\n",
    "import torch.nn as nn\n",
    "import torchvision\n",
    "import torchvision.transforms as transforms"
   ]
  },
  {
   "cell_type": "markdown",
   "id": "6ea3d65f",
   "metadata": {},
   "source": [
    "**Menu**\n",
    "- Device Config\n",
    "- Hyper-parameters \n",
    "- Dataset & Dataloader\n",
    "- Model Implementation\n",
    "- Loss & optimizer\n",
    "- Train & Test\n",
    "- Save model"
   ]
  },
  {
   "cell_type": "markdown",
   "id": "6599134c",
   "metadata": {},
   "source": [
    "### **1. Device (CUDA)**"
   ]
  },
  {
   "cell_type": "code",
   "execution_count": 2,
   "id": "ee7022b9",
   "metadata": {},
   "outputs": [],
   "source": [
    "device = torch.device('cuda' if torch.cuda.is_available() else 'cpu')"
   ]
  },
  {
   "cell_type": "markdown",
   "id": "fd1b8c37",
   "metadata": {},
   "source": [
    "### **2.Hyper-parameters**"
   ]
  },
  {
   "cell_type": "code",
   "execution_count": 4,
   "id": "6ddaf282",
   "metadata": {},
   "outputs": [],
   "source": [
    "'''Hyper-parameter'''\n",
    "input_size = 28 * 28\n",
    "hidden_size = 500\n",
    "num_classes = 10\n",
    "num_epochs = 5\n",
    "batch_size = 100\n",
    "learning_rate = 0.001"
   ]
  },
  {
   "cell_type": "markdown",
   "id": "2f525edf",
   "metadata": {},
   "source": [
    "### **3. Dataset & Dataloader**"
   ]
  },
  {
   "cell_type": "code",
   "execution_count": 8,
   "id": "e10a2a4b",
   "metadata": {},
   "outputs": [],
   "source": [
    "train_dataset = torchvision.datasets.MNIST(root=\"./data/\",\n",
    "                                           train=True,\n",
    "                                           transform=transforms.ToTensor(),\n",
    "                                           download=True)\n",
    "test_dataset = torchvision.datasets.MNIST(root=\"./data/\",\n",
    "                                           train=False,\n",
    "                                           transform=transforms.ToTensor(),\n",
    "                                           download=True)"
   ]
  },
  {
   "cell_type": "code",
   "execution_count": 9,
   "id": "a46f750e",
   "metadata": {},
   "outputs": [],
   "source": [
    "train_loader = torch.utils.data.DataLoader(dataset=train_dataset,\n",
    "                                           batch_size=batch_size,\n",
    "                                           shuffle=True)\n",
    "test_loader = torch.utils.data.DataLoader(dataset=test_dataset,\n",
    "                                           batch_size=batch_size,\n",
    "                                           shuffle=False)"
   ]
  },
  {
   "cell_type": "markdown",
   "id": "ec472826",
   "metadata": {},
   "source": [
    "### **4. Model**"
   ]
  },
  {
   "cell_type": "code",
   "execution_count": 10,
   "id": "67f0f383",
   "metadata": {},
   "outputs": [],
   "source": [
    "class FFN(nn.Module):\n",
    "    def __init__(self, input_size, hidden_size, num_classes):\n",
    "        super(FFN, self).__init__()\n",
    "        self.fc1 = nn.Linear(input_size, hidden_size)\n",
    "        self.relu = nn.ReLU()\n",
    "        self.fc2 = nn.Linear(hidden_size, num_classes)\n",
    "        \n",
    "    def forward(self, x):\n",
    "        out = self.fc1(x)\n",
    "        out = self.relu(out)\n",
    "        out = self.fc2(out)\n",
    "        return out"
   ]
  },
  {
   "cell_type": "code",
   "execution_count": 11,
   "id": "ea7b5e1b",
   "metadata": {},
   "outputs": [],
   "source": [
    "model = FFN(input_size, hidden_size, num_classes)"
   ]
  },
  {
   "cell_type": "code",
   "execution_count": 13,
   "id": "9feec4c2",
   "metadata": {},
   "outputs": [
    {
     "data": {
      "text/plain": [
       "FFN(\n",
       "  (fc1): Linear(in_features=784, out_features=500, bias=True)\n",
       "  (relu): ReLU()\n",
       "  (fc2): Linear(in_features=500, out_features=10, bias=True)\n",
       ")"
      ]
     },
     "execution_count": 13,
     "metadata": {},
     "output_type": "execute_result"
    }
   ],
   "source": [
    "model.to(device)"
   ]
  },
  {
   "cell_type": "markdown",
   "id": "fbb548da",
   "metadata": {},
   "source": [
    "### **5.Loss & Optimizer**"
   ]
  },
  {
   "cell_type": "code",
   "execution_count": 16,
   "id": "2e33631c",
   "metadata": {},
   "outputs": [],
   "source": [
    "criterion = nn.CrossEntropyLoss()\n",
    "optimizer = torch.optim.Adam(model.parameters(), lr=learning_rate)"
   ]
  },
  {
   "cell_type": "markdown",
   "id": "3fec1452",
   "metadata": {},
   "source": [
    "### **6. Train**"
   ]
  },
  {
   "cell_type": "code",
   "execution_count": 18,
   "id": "22750d45",
   "metadata": {},
   "outputs": [
    {
     "name": "stdout",
     "output_type": "stream",
     "text": [
      "Epoch [1/5], Step [100/600], Loss: 0.1755\n",
      "Epoch [1/5], Step [200/600], Loss: 0.2771\n",
      "Epoch [1/5], Step [300/600], Loss: 0.2180\n",
      "Epoch [1/5], Step [400/600], Loss: 0.1410\n",
      "Epoch [1/5], Step [500/600], Loss: 0.1801\n",
      "Epoch [1/5], Step [600/600], Loss: 0.1019\n",
      "Epoch [2/5], Step [100/600], Loss: 0.0744\n",
      "Epoch [2/5], Step [200/600], Loss: 0.1015\n",
      "Epoch [2/5], Step [300/600], Loss: 0.1151\n",
      "Epoch [2/5], Step [400/600], Loss: 0.1056\n",
      "Epoch [2/5], Step [500/600], Loss: 0.0893\n",
      "Epoch [2/5], Step [600/600], Loss: 0.1773\n",
      "Epoch [3/5], Step [100/600], Loss: 0.1561\n",
      "Epoch [3/5], Step [200/600], Loss: 0.1340\n",
      "Epoch [3/5], Step [300/600], Loss: 0.0405\n",
      "Epoch [3/5], Step [400/600], Loss: 0.0334\n",
      "Epoch [3/5], Step [500/600], Loss: 0.0610\n",
      "Epoch [3/5], Step [600/600], Loss: 0.0228\n",
      "Epoch [4/5], Step [100/600], Loss: 0.0486\n",
      "Epoch [4/5], Step [200/600], Loss: 0.1080\n",
      "Epoch [4/5], Step [300/600], Loss: 0.0123\n",
      "Epoch [4/5], Step [400/600], Loss: 0.1114\n",
      "Epoch [4/5], Step [500/600], Loss: 0.0740\n",
      "Epoch [4/5], Step [600/600], Loss: 0.0108\n",
      "Epoch [5/5], Step [100/600], Loss: 0.0551\n",
      "Epoch [5/5], Step [200/600], Loss: 0.0598\n",
      "Epoch [5/5], Step [300/600], Loss: 0.0212\n",
      "Epoch [5/5], Step [400/600], Loss: 0.0259\n",
      "Epoch [5/5], Step [500/600], Loss: 0.0337\n",
      "Epoch [5/5], Step [600/600], Loss: 0.0210\n"
     ]
    }
   ],
   "source": [
    "total_step = len(train_loader)\n",
    "for epoch in range(num_epochs):\n",
    "    for i, (images, labels) in enumerate(train_loader):\n",
    "        '''move tensor to device'''\n",
    "        images = images.reshape(-1, input_size).to(device)\n",
    "        labels = labels.to(device)\n",
    "        \n",
    "        pred = model(images)\n",
    "        loss = criterion(pred, labels)\n",
    "        \n",
    "        optimzier.zero_grad()\n",
    "        loss.backward()\n",
    "        optimizer.step()\n",
    "        \n",
    "        if (i+1)%100 == 0:\n",
    "            print('Epoch [{}/{}], Step [{}/{}], Loss: {:.4f}' \n",
    "                   .format(epoch+1, num_epochs, i+1, total_step, loss.item()))"
   ]
  },
  {
   "cell_type": "markdown",
   "id": "e3abd7c4",
   "metadata": {},
   "source": [
    "### **Test**"
   ]
  },
  {
   "cell_type": "code",
   "execution_count": 19,
   "id": "1e137164",
   "metadata": {},
   "outputs": [
    {
     "name": "stdout",
     "output_type": "stream",
     "text": [
      "Accuracy of the network on the 10000 test images: 97.97 %\n"
     ]
    }
   ],
   "source": [
    "with torch.no_grad():\n",
    "    correct = 0\n",
    "    total = 0\n",
    "    for images, labels in test_loader:\n",
    "        images = images.reshape(-1, 28*28).to(device)\n",
    "        labels = labels.to(device)\n",
    "        outputs = model(images)\n",
    "        _, predicted = torch.max(outputs.data, 1)\n",
    "        total += labels.size(0)\n",
    "        correct += (predicted == labels).sum().item()\n",
    "\n",
    "    print('Accuracy of the network on the 10000 test images: {} %'.format(100 * correct / total))"
   ]
  },
  {
   "cell_type": "code",
   "execution_count": 20,
   "id": "77766d53",
   "metadata": {},
   "outputs": [],
   "source": [
    "# Save the model checkpoint\n",
    "torch.save(model.state_dict(), './model/FFN.ckpt')"
   ]
  },
  {
   "cell_type": "code",
   "execution_count": 26,
   "id": "d228b189",
   "metadata": {},
   "outputs": [
    {
     "data": {
      "text/plain": [
       "<All keys matched successfully>"
      ]
     },
     "execution_count": 26,
     "metadata": {},
     "output_type": "execute_result"
    }
   ],
   "source": [
    "model.load_state_dict(torch.load('./model/FFN.ckpt'))"
   ]
  },
  {
   "cell_type": "code",
   "execution_count": 27,
   "id": "27f855e9",
   "metadata": {},
   "outputs": [
    {
     "data": {
      "text/plain": [
       "FFN(\n",
       "  (fc1): Linear(in_features=784, out_features=500, bias=True)\n",
       "  (relu): ReLU()\n",
       "  (fc2): Linear(in_features=500, out_features=10, bias=True)\n",
       ")"
      ]
     },
     "execution_count": 27,
     "metadata": {},
     "output_type": "execute_result"
    }
   ],
   "source": [
    "model"
   ]
  }
 ],
 "metadata": {
  "kernelspec": {
   "display_name": "Python 3 (ipykernel)",
   "language": "python",
   "name": "python3"
  },
  "language_info": {
   "codemirror_mode": {
    "name": "ipython",
    "version": 3
   },
   "file_extension": ".py",
   "mimetype": "text/x-python",
   "name": "python",
   "nbconvert_exporter": "python",
   "pygments_lexer": "ipython3",
   "version": "3.9.7"
  }
 },
 "nbformat": 4,
 "nbformat_minor": 5
}

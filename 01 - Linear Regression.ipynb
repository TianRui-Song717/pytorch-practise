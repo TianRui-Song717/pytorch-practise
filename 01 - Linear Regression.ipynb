{
 "cells": [
  {
   "cell_type": "markdown",
   "id": "30c51cc2",
   "metadata": {},
   "source": [
    "# **01-LinearRegression**"
   ]
  },
  {
   "cell_type": "code",
   "execution_count": 1,
   "id": "7f3c4a97",
   "metadata": {},
   "outputs": [],
   "source": [
    "import torch\n",
    "import torch.nn as nn\n",
    "import numpy as np\n",
    "import matplotlib.pyplot as plt"
   ]
  },
  {
   "cell_type": "markdown",
   "id": "ee00d499",
   "metadata": {},
   "source": [
    "**Menu**\n",
    "- Linear Regression"
   ]
  },
  {
   "cell_type": "markdown",
   "id": "e23039d7",
   "metadata": {},
   "source": [
    "### **Linear Regression**"
   ]
  },
  {
   "cell_type": "code",
   "execution_count": 8,
   "id": "08fe984a",
   "metadata": {},
   "outputs": [
    {
     "name": "stdout",
     "output_type": "stream",
     "text": [
      "Epoch [5/60], Loss: 38.8617\n",
      "Epoch [10/60], Loss: 15.9199\n",
      "Epoch [15/60], Loss: 6.6256\n",
      "Epoch [20/60], Loss: 2.8601\n",
      "Epoch [25/60], Loss: 1.3345\n",
      "Epoch [30/60], Loss: 0.7162\n",
      "Epoch [35/60], Loss: 0.4655\n",
      "Epoch [40/60], Loss: 0.3638\n",
      "Epoch [45/60], Loss: 0.3224\n",
      "Epoch [50/60], Loss: 0.3054\n",
      "Epoch [55/60], Loss: 0.2984\n",
      "Epoch [60/60], Loss: 0.2953\n"
     ]
    },
    {
     "data": {
      "image/png": "[encoded data removed]",
      "text/plain": [
       "<Figure size 432x288 with 1 Axes>"
      ]
     },
     "metadata": {
      "needs_background": "light"
     },
     "output_type": "display_data"
    }
   ],
   "source": [
    "# Hyper parameter\n",
    "input_size = 1\n",
    "output_size = 1\n",
    "num_epochs = 60\n",
    "learning_rate = 0.001\n",
    "\n",
    "# Toy Dataset\n",
    "x_train = np.array([[3.3], [4.4], [5.5], [6.71], [6.93], [4.168], \n",
    "                    [9.779], [6.182], [7.59], [2.167], [7.042], \n",
    "                    [10.791], [5.313], [7.997], [3.1]], dtype=np.float32)\n",
    "\n",
    "y_train = np.array([[1.7], [2.76], [2.09], [3.19], [1.694], [1.573], \n",
    "                    [3.366], [2.596], [2.53], [1.221], [2.827], \n",
    "                    [3.465], [1.65], [2.904], [1.3]], dtype=np.float32)\n",
    "\n",
    "\n",
    "# Linear Regression Model\n",
    "model = nn.Linear(input_size, output_size)\n",
    "\n",
    "# LOss and optimization\n",
    "criterion = nn.MSELoss()\n",
    "optimizer = torch.optim.SGD(model.parameters(), lr=learning_rate)\n",
    "\n",
    "# Traing rhe model\n",
    "model.train()\n",
    "for epoch in range(num_epochs):\n",
    "    # Conver numpy arrats to toch tensors\n",
    "    inputs = torch.from_numpy(x_train)\n",
    "    targets = torch.from_numpy(y_train)    \n",
    "    \n",
    "    # Forward\n",
    "    outputs = model(inputs)\n",
    "    loss = criterion(outputs, targets)\n",
    "    \n",
    "    # Backward & optimize\n",
    "    optimizer.zero_grad()\n",
    "    loss.backward()\n",
    "    optimizer.step()\n",
    "    \n",
    "    if (epoch+1) % 5 == 0:\n",
    "        print('Epoch [{}/{}], Loss: {:.4f}'.format(epoch+1, num_epochs, loss.item()))\n",
    "        \n",
    "# Plot the graph\n",
    "model.eval()\n",
    "with torch.no_grad():\n",
    "    predicted = model(torch.from_numpy(x_train)).detach().numpy()\n",
    "    plt.plot(x_train, y_train, 'ro', label='Original data')\n",
    "    plt.plot(x_train, predicted, label='Fitted line')\n",
    "    plt.legend()\n",
    "    plt.show()\n",
    "\n",
    "# Save the model checkpoint\n",
    "torch.save(model.state_dict(), './model/model_linearRegression.ckpt')"
   ]
  }
 ],
 "metadata": {
  "kernelspec": {
   "display_name": "Python 3 (ipykernel)",
   "language": "python",
   "name": "python3"
  },
  "language_info": {
   "codemirror_mode": {
    "name": "ipython",
    "version": 3
   },
   "file_extension": ".py",
   "mimetype": "text/x-python",
   "name": "python",
   "nbconvert_exporter": "python",
   "pygments_lexer": "ipython3",
   "version": "3.9.7"
  }
 },
 "nbformat": 4,
 "nbformat_minor": 5
}

{
 "cells": [
  {
   "cell_type": "markdown",
   "id": "d67614d0",
   "metadata": {},
   "source": [
    "# **Logisitic Regression**"
   ]
  },
  {
   "cell_type": "code",
   "execution_count": 1,
   "id": "f9d81070",
   "metadata": {},
   "outputs": [],
   "source": [
    "import torch\n",
    "import torch.nn as nn\n",
    "import torchvision\n",
    "import torchvision.transforms as transforms"
   ]
  },
  {
   "cell_type": "markdown",
   "id": "86e1c8df",
   "metadata": {},
   "source": [
    "**Menu**\n",
    "- Logistic Regression"
   ]
  },
  {
   "cell_type": "markdown",
   "id": "d522a2e1",
   "metadata": {},
   "source": [
    "### **1. Dataset & Config**"
   ]
  },
  {
   "cell_type": "code",
   "execution_count": 9,
   "id": "534b6266",
   "metadata": {},
   "outputs": [],
   "source": [
    "'''Hyper-parameter'''\n",
    "input_size = 28 * 28\n",
    "num_classes = 10\n",
    "num_epochs = 5\n",
    "batch_size = 100\n",
    "learning_rate = 0.001"
   ]
  },
  {
   "cell_type": "code",
   "execution_count": 10,
   "id": "09ea23e9",
   "metadata": {},
   "outputs": [],
   "source": [
    "'''MNIST dataset'''\n",
    "train_dataset = torchvision.datasets.MNIST(root=\"./data/\",\n",
    "                                          train=True,\n",
    "                                          transform=transforms.ToTensor(),\n",
    "                                          download=True)\n",
    "\n",
    "test_dataset = torchvision.datasets.MNIST(root=\"./data/\",\n",
    "                                         train=False,\n",
    "                                         transform=transforms.ToTensor())\n",
    "\n",
    "'''Dataloader'''\n",
    "train_loader = torch.utils.data.DataLoader(dataset=train_dataset,\n",
    "                                          batch_size=batch_size,\n",
    "                                          shuffle=True)\n",
    "test_loader = torch.utils.data.DataLoader(dataset=test_dataset,\n",
    "                                          batch_size=batch_size,\n",
    "                                          shuffle=True)"
   ]
  },
  {
   "cell_type": "code",
   "execution_count": 11,
   "id": "0c34d911",
   "metadata": {},
   "outputs": [],
   "source": [
    "'''Logisitic Regression Model'''\n",
    "model = nn.Linear(input_size, num_classes)\n",
    "\n",
    "'''Loss & Optimizer'''\n",
    "criterion = nn.CrossEntropyLoss()\n",
    "optimizer = torch.optim.SGD(model.parameters(), lr=learning_rate)"
   ]
  },
  {
   "cell_type": "markdown",
   "id": "bf624e9e",
   "metadata": {},
   "source": [
    "### **2.Train**"
   ]
  },
  {
   "cell_type": "code",
   "execution_count": 15,
   "id": "a9942555",
   "metadata": {},
   "outputs": [
    {
     "name": "stdout",
     "output_type": "stream",
     "text": [
      "Epoch [1/5], Step [100/600], Loss: 2.0903\n",
      "Epoch [1/5], Step [200/600], Loss: 2.0612\n",
      "Epoch [1/5], Step [300/600], Loss: 1.9496\n",
      "Epoch [1/5], Step [400/600], Loss: 1.8179\n",
      "Epoch [1/5], Step [500/600], Loss: 1.8115\n",
      "Epoch [1/5], Step [600/600], Loss: 1.6911\n",
      "Epoch [2/5], Step [100/600], Loss: 1.6326\n",
      "Epoch [2/5], Step [200/600], Loss: 1.6234\n",
      "Epoch [2/5], Step [300/600], Loss: 1.5074\n",
      "Epoch [2/5], Step [400/600], Loss: 1.4803\n",
      "Epoch [2/5], Step [500/600], Loss: 1.4153\n",
      "Epoch [2/5], Step [600/600], Loss: 1.4238\n",
      "Epoch [3/5], Step [100/600], Loss: 1.4490\n",
      "Epoch [3/5], Step [200/600], Loss: 1.3806\n",
      "Epoch [3/5], Step [300/600], Loss: 1.3457\n",
      "Epoch [3/5], Step [400/600], Loss: 1.3197\n",
      "Epoch [3/5], Step [500/600], Loss: 1.2734\n",
      "Epoch [3/5], Step [600/600], Loss: 1.1751\n",
      "Epoch [4/5], Step [100/600], Loss: 1.1748\n",
      "Epoch [4/5], Step [200/600], Loss: 1.1593\n",
      "Epoch [4/5], Step [300/600], Loss: 1.1539\n",
      "Epoch [4/5], Step [400/600], Loss: 1.1231\n",
      "Epoch [4/5], Step [500/600], Loss: 1.0628\n",
      "Epoch [4/5], Step [600/600], Loss: 1.0066\n",
      "Epoch [5/5], Step [100/600], Loss: 1.0581\n",
      "Epoch [5/5], Step [200/600], Loss: 1.0968\n",
      "Epoch [5/5], Step [300/600], Loss: 0.9253\n",
      "Epoch [5/5], Step [400/600], Loss: 0.9725\n",
      "Epoch [5/5], Step [500/600], Loss: 1.0216\n",
      "Epoch [5/5], Step [600/600], Loss: 0.9135\n"
     ]
    }
   ],
   "source": [
    "total_step = len(train_loader)\n",
    "for epochs in range(num_epochs):\n",
    "    for i, (images, labels) in enumerate(train_loader):\n",
    "        # batch images & labels\n",
    "        images = images.reshape(-1, input_size)  # batch_size, input_size\n",
    "        \n",
    "        # Forward Pass\n",
    "        outputs = model(images)\n",
    "        loss = criterion(outputs, labels)\n",
    "        \n",
    "        # Backward and optimize\n",
    "        optimizer.zero_grad()\n",
    "        loss.backward()\n",
    "        optimizer.step()\n",
    "        \n",
    "        if (i+1)%100 == 0:\n",
    "            print('Epoch [{}/{}], Step [{}/{}], Loss: {:.4f}' \n",
    "                   .format(epochs+1, num_epochs, i+1, total_step, loss.item()))"
   ]
  },
  {
   "cell_type": "markdown",
   "id": "a4880e9a",
   "metadata": {},
   "source": [
    "### **3.Test Model**"
   ]
  },
  {
   "cell_type": "code",
   "execution_count": 18,
   "id": "343c2f83",
   "metadata": {},
   "outputs": [
    {
     "name": "stdout",
     "output_type": "stream",
     "text": [
      "Accuracy of the model on the 10000 test images: 82.2300%\n"
     ]
    }
   ],
   "source": [
    "'''Do not need to compute gradient'''\n",
    "with torch.no_grad():\n",
    "    correct = 0\n",
    "    total = 0\n",
    "    for images, labels in test_loader:\n",
    "        images = images.reshape(-1, input_size)\n",
    "        outputs = model(images)\n",
    "        _, predicted = torch.max(outputs.data, 1)\n",
    "        total += labels.size(0)\n",
    "        correct += (predicted == labels).sum()\n",
    "        \n",
    "    print('Accuracy of the model on the 10000 test images: {:.4f}%'\\\n",
    "          .format(100 * correct / total))"
   ]
  },
  {
   "cell_type": "markdown",
   "id": "f2511bfa",
   "metadata": {},
   "source": [
    "### **4.Save Model**"
   ]
  },
  {
   "cell_type": "code",
   "execution_count": 19,
   "id": "74192164",
   "metadata": {},
   "outputs": [],
   "source": [
    "torch.save(model.state_dict(), './model/logisiticRegression.ckpt')"
   ]
  }
 ],
 "metadata": {
  "kernelspec": {
   "display_name": "Python 3 (ipykernel)",
   "language": "python",
   "name": "python3"
  },
  "language_info": {
   "codemirror_mode": {
    "name": "ipython",
    "version": 3
   },
   "file_extension": ".py",
   "mimetype": "text/x-python",
   "name": "python",
   "nbconvert_exporter": "python",
   "pygments_lexer": "ipython3",
   "version": "3.9.7"
  }
 },
 "nbformat": 4,
 "nbformat_minor": 5
}

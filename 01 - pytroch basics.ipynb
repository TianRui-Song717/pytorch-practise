{
 "cells": [
  {
   "cell_type": "markdown",
   "id": "03acc6db",
   "metadata": {},
   "source": [
    "# **Basics**"
   ]
  },
  {
   "cell_type": "code",
   "execution_count": 1,
   "id": "172f828c",
   "metadata": {},
   "outputs": [],
   "source": [
    "import torch\n",
    "import torchvision\n",
    "import torch.nn as nn\n",
    "import numpy as np\n",
    "import torchvision.transforms as transforms"
   ]
  },
  {
   "cell_type": "markdown",
   "id": "db8e6ae1",
   "metadata": {},
   "source": [
    "**Menu**\n",
    "- Basic autograd example 1\n",
    "- Basic autograd example 2\n",
    "- Loading data from numpy\n",
    "- Input pipeline\n",
    "- Input pipeline for custom dataset\n",
    "- Pretrained model\n",
    "- save and load model"
   ]
  },
  {
   "cell_type": "markdown",
   "id": "e10fe1c3",
   "metadata": {},
   "source": [
    "### **Basic auto grad 1**"
   ]
  },
  {
   "cell_type": "code",
   "execution_count": 3,
   "id": "e5c6dc4c",
   "metadata": {},
   "outputs": [
    {
     "name": "stdout",
     "output_type": "stream",
     "text": [
      "tensor(2.)\n",
      "tensor(1.)\n",
      "tensor(1.)\n"
     ]
    }
   ],
   "source": [
    "# create tensors\n",
    "x = torch.tensor(1., requires_grad=True)\n",
    "w = torch.tensor(2., requires_grad=True)\n",
    "b = torch.tensor(3., requires_grad=True)\n",
    "\n",
    "# build a computation graph\n",
    "y = w * x + b\n",
    "\n",
    "# compute gradients\n",
    "y.backward()\n",
    "\n",
    "# Gradients\n",
    "print(x.grad)  # 2\n",
    "print(w.grad)  # 1\n",
    "print(b.grad)  # 1"
   ]
  },
  {
   "cell_type": "code",
   "execution_count": 7,
   "id": "be6d8be4",
   "metadata": {},
   "outputs": [
    {
     "name": "stdout",
     "output_type": "stream",
     "text": [
      "tensor(1.)\n",
      "tensor(2.)\n"
     ]
    }
   ],
   "source": [
    "print(x.data)  # get tensor\n",
    "print(x.grad)  # get gradient"
   ]
  },
  {
   "cell_type": "markdown",
   "id": "789b49ec",
   "metadata": {},
   "source": [
    "### **Basic autograd example 2**"
   ]
  },
  {
   "cell_type": "code",
   "execution_count": 9,
   "id": "9b075b98",
   "metadata": {},
   "outputs": [
    {
     "name": "stdout",
     "output_type": "stream",
     "text": [
      "w:  Parameter containing:\n",
      "tensor([[-0.4003,  0.1447, -0.3484],\n",
      "        [ 0.5704, -0.1693, -0.5088]], requires_grad=True)\n",
      "b:  Parameter containing:\n",
      "tensor([-0.1671,  0.2010], requires_grad=True)\n",
      "loss:  0.5659213066101074\n",
      "dL/dw:  tensor([[-0.3239, -0.4340, -0.4360],\n",
      "        [-0.1124, -0.2482, -0.3122]])\n",
      "dL/db:  tensor([-0.8166, -0.4089])\n",
      "loss after 1 step optimization:  0.5511578321456909\n"
     ]
    }
   ],
   "source": [
    "# create tensor\n",
    "x = torch.rand(10, 3)\n",
    "y = torch.rand(10, 2)\n",
    "\n",
    "# build a fully connect layer\n",
    "linear = nn.Linear(3, 2)\n",
    "print('w: ', linear.weight)\n",
    "print('b: ', linear.bias)\n",
    "\n",
    "# build loss function and optimizer\n",
    "criterion = nn.MSELoss()\n",
    "optimizer = torch.optim.SGD(linear.parameters(), lr=0.01)\n",
    "\n",
    "# Forward pass\n",
    "pred = linear(x)\n",
    "\n",
    "# Compute loss\n",
    "loss = criterion(pred, y)\n",
    "print('loss: ', loss.item())\n",
    "\n",
    "# Backward pass\n",
    "loss.backward()\n",
    "\n",
    "# Print out the gradients.\n",
    "print ('dL/dw: ', linear.weight.grad) \n",
    "print ('dL/db: ', linear.bias.grad)\n",
    "\n",
    "# 1-step gradient descent.\n",
    "optimizer.step()\n",
    "# You can also perform gradient descent at the low level.\n",
    "# linear.weight.data.sub_(0.01 * linear.weight.grad.data)\n",
    "# linear.bias.data.sub_(0.01 * linear.bias.grad.data)\n",
    "\n",
    "# Print out the loss after 1-step gradient descent.\n",
    "pred = linear(x)\n",
    "loss = criterion(pred, y)\n",
    "print('loss after 1 step optimization: ', loss.item())"
   ]
  },
  {
   "cell_type": "markdown",
   "id": "2ec75391",
   "metadata": {},
   "source": [
    "### **numpy.array & torch.tensor**"
   ]
  },
  {
   "cell_type": "code",
   "execution_count": 10,
   "id": "be2b0d08",
   "metadata": {},
   "outputs": [],
   "source": [
    "# create a numpy array\n",
    "x = np.array([[1, 2],[3, 4]])\n",
    "\n",
    "# convert numpy array into tensor\n",
    "y = torch.from_numpy(x)\n",
    "\n",
    "# convert the torch tensor to a numpy array\n",
    "z = y.numpy()"
   ]
  },
  {
   "cell_type": "code",
   "execution_count": 11,
   "id": "67dfe927",
   "metadata": {},
   "outputs": [
    {
     "data": {
      "text/plain": [
       "(array([[1, 2],\n",
       "        [3, 4]]),\n",
       " tensor([[1, 2],\n",
       "         [3, 4]], dtype=torch.int32),\n",
       " array([[1, 2],\n",
       "        [3, 4]]))"
      ]
     },
     "execution_count": 11,
     "metadata": {},
     "output_type": "execute_result"
    }
   ],
   "source": [
    "x, y, z"
   ]
  },
  {
   "cell_type": "markdown",
   "id": "edc92ae8",
   "metadata": {},
   "source": [
    "### **Input pipeline**"
   ]
  },
  {
   "cell_type": "code",
   "execution_count": 14,
   "id": "5a7cd16f",
   "metadata": {},
   "outputs": [
    {
     "name": "stdout",
     "output_type": "stream",
     "text": [
      "Files already downloaded and verified\n",
      "torch.Size([3, 32, 32])\n",
      "6\n"
     ]
    }
   ],
   "source": [
    "# Construct the Dataset (not in the ram)\n",
    "train_dataset = torchvision.datasets.CIFAR10(root=\"./data/\",\n",
    "                                             train=True,\n",
    "                                             transform=transforms.ToTensor(),\n",
    "                                             download=True)\n",
    "\n",
    "# Fetch one data pair (read data from disk)\n",
    "image, label = train_dataset[0]\n",
    "print(image.size())\n",
    "print(label)\n",
    "\n",
    "# Construct Dataloader (provides queues and threads in a very simple way)\n",
    "train_loader = torch.utils.data.DataLoader(dataset=train_dataset,\n",
    "                                          batch_size=64,\n",
    "                                          shuffle=True)\n",
    "\n",
    "\n",
    "# Iteration starts, queque and thread start to load data from files\n",
    "data_iter = iter(train_loader)\n",
    "\n",
    "# Mini-batch images and labels\n",
    "images, labels = data_iter.next()\n",
    "\n",
    "# Usage of Dataloader\n",
    "for images, labels in train_loader:\n",
    "    # Training code here\n",
    "    pass"
   ]
  },
  {
   "cell_type": "markdown",
   "id": "52393af1",
   "metadata": {},
   "source": [
    "### **Custom Dataset**"
   ]
  },
  {
   "cell_type": "code",
   "execution_count": 16,
   "id": "c1411e35",
   "metadata": {},
   "outputs": [],
   "source": [
    "from torch.utils.data import Dataset"
   ]
  },
  {
   "cell_type": "code",
   "execution_count": 20,
   "id": "995dba35",
   "metadata": {},
   "outputs": [],
   "source": [
    "# build your own dataset\n",
    "class CustomDataset(Dataset):\n",
    "    def __init__(self):\n",
    "        # TODO\n",
    "        # 1. Initialize file paths or a list of file names\n",
    "        super(CustomDataset, self).__init__()\n",
    "        pass\n",
    "    \n",
    "    def __getitem__(self, index):\n",
    "        # TODO\n",
    "        # 1. Read one data from file (e.g. using numpy.fromfile / PIL.Image.open\n",
    "        # 2. Preprocess the data (e.g. torch.vision. transforms)\n",
    "        # 3. Return a data pair (e.g. image & label)\n",
    "        pass\n",
    "    \n",
    "    def __len__(self):\n",
    "        # TODO\n",
    "        # 1. return total size of your dataset\n",
    "        return 0\n",
    "    \n",
    "# Use the Dataloader\n",
    "custom_dataset = CustomDataset()\n",
    "# train_loader = torch.utils.data.DataLoader(dataset=custom_dataset,\n",
    "#                                           batch_size=64,\n",
    "#                                           shuffle=True)\n",
    "\n",
    "# Usage of Dataloader\n",
    "# for images, labels in train_loader:"
   ]
  },
  {
   "cell_type": "markdown",
   "id": "7744944e",
   "metadata": {},
   "source": [
    "### **Pretrained Model - Finetune**"
   ]
  },
  {
   "cell_type": "code",
   "execution_count": 22,
   "id": "9bc32113",
   "metadata": {},
   "outputs": [
    {
     "name": "stdout",
     "output_type": "stream",
     "text": [
      "torch.Size([64, 100])\n"
     ]
    }
   ],
   "source": [
    "# Download and load the pretrained ResNet-18.\n",
    "resnet = torchvision.models.resnet18(pretrained=True)\n",
    "\n",
    "# If you want to finetune only the top layer of the model, set as below.\n",
    "for param in resnet.parameters():\n",
    "    param.requires_grad = False\n",
    "    \n",
    "# Replace the top layer for finetuning.\n",
    "resnet.fc = nn.Linear(resnet.fc.in_features, 100)  # 100 is an example.\n",
    "\n",
    "# Forward pass\n",
    "images = torch.randn(64, 3, 224, 224)\n",
    "outputs = resnet(images)\n",
    "print(outputs.size())"
   ]
  },
  {
   "cell_type": "markdown",
   "id": "fa2f7a31",
   "metadata": {},
   "source": [
    "### **Save & Load model**"
   ]
  },
  {
   "cell_type": "code",
   "execution_count": 23,
   "id": "e220b71f",
   "metadata": {},
   "outputs": [
    {
     "data": {
      "text/plain": [
       "<All keys matched successfully>"
      ]
     },
     "execution_count": 23,
     "metadata": {},
     "output_type": "execute_result"
    }
   ],
   "source": [
    "# save & load the entire model\n",
    "torch.save(resnet, 'model/model.ckpt')\n",
    "model = torch.load('model/model.ckpt')\n",
    "\n",
    "# save and load the model parameters (recommend)\n",
    "torch.save(resnet.state_dict(), 'model/params.ckpt')\n",
    "resnet.load_state_dict(torch.load('model/params.ckpt'))"
   ]
  }
 ],
 "metadata": {
  "kernelspec": {
   "display_name": "Python 3 (ipykernel)",
   "language": "python",
   "name": "python3"
  },
  "language_info": {
   "codemirror_mode": {
    "name": "ipython",
    "version": 3
   },
   "file_extension": ".py",
   "mimetype": "text/x-python",
   "name": "python",
   "nbconvert_exporter": "python",
   "pygments_lexer": "ipython3",
   "version": "3.9.7"
  }
 },
 "nbformat": 4,
 "nbformat_minor": 5
}
